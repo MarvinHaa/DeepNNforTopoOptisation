{
 "cells": [
  {
   "cell_type": "markdown",
   "id": "6e15e999",
   "metadata": {},
   "source": [
    "# Experiment 3.1.3 (The deterministic bridge Optimisation with TCNN)\n"
   ]
  },
  {
   "cell_type": "markdown",
   "id": "45200006",
   "metadata": {},
   "source": [
    "The following code compares the performance of the optimisation methods presented in the thesis \"Deep Neural Networks for TopologyOptimisation under Uncertainties\" without the support of an NN and with the support of an NN. A detailed analysis of the results can be found in the aforementioned thesis in Experiment 3.1.3.\n"
   ]
  },
  {
   "cell_type": "markdown",
   "id": "789188a0",
   "metadata": {},
   "source": [
    "Please select the variation of the load under which you want to compare the optimisers:\n",
    "\n",
    "<ul>\n",
    "<li>setting = None for a truncated normal distribution random load $g(\\omega), \\omega \\in \\Omega$ </li>\n",
    "<li>setting = 0 for $g = (0,-5000)^T$</li>\n",
    "<li>setting = 194 for $g = (2632.16,-4251.09)^T$</li>\n",
    "<li>setting = 914 for $g = (-733.23,-4945.95)^T$</li>\n",
    "<li>setting = 372 for $g = (-1099.92,-4877.25)^T$</li>\n",
    "<li>setting = 9 for $g = (-3197.16,-3844.24)^T$</li>\n",
    "</ul> "
   ]
  },
  {
   "cell_type": "code",
   "execution_count": null,
   "id": "ae80924b",
   "metadata": {},
   "outputs": [],
   "source": [
    "setting = None"
   ]
  },
  {
   "cell_type": "markdown",
   "id": "4e6f2814",
   "metadata": {},
   "source": [
    "Start optimisation without TCNN Support Algorithm 1 form Deep Neural Networks for TopologyOptimisation under Uncertainties"
   ]
  },
  {
   "cell_type": "code",
   "execution_count": null,
   "id": "df5808ca",
   "metadata": {},
   "outputs": [],
   "source": [
    "# import the standart optimzer \n",
    "from optimizer import *\n",
    "\n",
    "# stet random seed \n",
    "random_seed = setting\n",
    "\n",
    "if random_seed != 0:\n",
    "    g, expr = get_random_g(LEP, iter=random_seed)\n",
    "\n",
    "#run optimizer without NN\n",
    "tic()\n",
    "taus, es, es_t, times, controls, gammas, Js, compliance_list, t_list, problem = LE_optimzation(problem=LEP, tau_adapter=tau_adapter, maxIteration=750, plot_parameters=True, plot_steps=False, stoch=False, plot_every=100)\n",
    "time = tac()\n"
   ]
  },
  {
   "cell_type": "markdown",
   "id": "679b4dcb",
   "metadata": {},
   "source": [
    "Evaluate results "
   ]
  },
  {
   "cell_type": "code",
   "execution_count": null,
   "id": "b9da683b",
   "metadata": {},
   "outputs": [],
   "source": [
    "print('g=',g)\n",
    "print(time)\n",
    "print(\"J=\", Js[-1])\n",
    "print(\"complince:\", compliance_list[-1])\n",
    "\n",
    "plt.figure()\n",
    "plot(problem.phi_next[0])\n",
    "plt.show()"
   ]
  },
  {
   "cell_type": "markdown",
   "id": "65d943b9",
   "metadata": {},
   "source": [
    "Start optimisation with TCNN support Algorithm 3 form Deep Neural Networks for TopologyOptimisation under Uncertainties"
   ]
  },
  {
   "cell_type": "code",
   "execution_count": null,
   "id": "c4555248",
   "metadata": {},
   "outputs": [],
   "source": [
    "# import the optimzer with NN support \n",
    "from CNN_optimizer import *\n",
    "\n",
    "LEP2 = LEProblem(bridge2D())\n",
    "# stet random seed \n",
    "random_seed = setting\n",
    "\n",
    "if random_seed != 0:\n",
    "    # set g as in non NN optimization \n",
    "    LEP2.g = expr\n",
    "\n",
    "#run optimizer with TCNN support \n",
    "tic()\n",
    "Js = run_CNN_optimization(LEP2)\n",
    "time = tac()"
   ]
  },
  {
   "cell_type": "markdown",
   "id": "39747118",
   "metadata": {},
   "source": [
    "Evaluate results "
   ]
  },
  {
   "cell_type": "code",
   "execution_count": null,
   "id": "04a883b4",
   "metadata": {},
   "outputs": [],
   "source": [
    "print('g=',g)\n",
    "print(time)\n",
    "print(\"J=\", Js[-1])\n",
    "print(\"complince:\", compliance(LEP2))\n",
    "\n",
    "plt.figure()\n",
    "plot(LEP2.phi_next[0])\n",
    "plt.show()"
   ]
  }
 ],
 "metadata": {
  "kernelspec": {
   "display_name": "Python [conda env:MA_for_jupyter] *",
   "language": "python",
   "name": "conda-env-MA_for_jupyter-py"
  },
  "language_info": {
   "codemirror_mode": {
    "name": "ipython",
    "version": 3
   },
   "file_extension": ".py",
   "mimetype": "text/x-python",
   "name": "python",
   "nbconvert_exporter": "python",
   "pygments_lexer": "ipython3",
   "version": "3.9.4"
  }
 },
 "nbformat": 4,
 "nbformat_minor": 5
}
